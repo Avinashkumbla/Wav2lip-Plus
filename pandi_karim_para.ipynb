{
  "cells": [
    {
      "cell_type": "code",
      "execution_count": 1,
      "metadata": {
        "id": "kHBMZ0cI_ujP"
      },
      "outputs": [],
      "source": [
        "import os\n",
        "os.chdir('/content')  # Change to the default Colab directory\n"
      ]
    },
    {
      "cell_type": "code",
      "execution_count": 2,
      "metadata": {
        "colab": {
          "base_uri": "https://localhost:8080/"
        },
        "id": "slgJ1VkX_4VN",
        "outputId": "57c1d137-38de-4af3-826e-94d2550c0636"
      },
      "outputs": [
        {
          "output_type": "stream",
          "name": "stdout",
          "text": [
            "Cloning into 'Wav2Lip-GFPGAN'...\n",
            "remote: Enumerating objects: 215, done.\u001b[K\n",
            "remote: Counting objects: 100% (55/55), done.\u001b[K\n",
            "remote: Compressing objects: 100% (45/45), done.\u001b[K\n",
            "remote: Total 215 (delta 30), reused 10 (delta 10), pack-reused 160 (from 1)\u001b[K\n",
            "Receiving objects: 100% (215/215), 29.94 MiB | 20.35 MiB/s, done.\n",
            "Resolving deltas: 100% (52/52), done.\n",
            "/content/Wav2Lip-GFPGAN\n"
          ]
        }
      ],
      "source": [
        "!git clone https://github.com/Arsene-101/Wav2Lip-GFPGAN.git\n",
        "basePath = \"/content/Wav2Lip-GFPGAN\"\n",
        "%cd {basePath}"
      ]
    },
    {
      "cell_type": "code",
      "execution_count": 3,
      "metadata": {
        "colab": {
          "base_uri": "https://localhost:8080/"
        },
        "id": "puDCBmC_wJV4",
        "outputId": "07d75ff5-8fc5-43ff-e9a6-8e3e4ffeb7f7"
      },
      "outputs": [
        {
          "output_type": "stream",
          "name": "stdout",
          "text": [
            "Collecting librosa==0.10.0 (from -r requirements.txt (line 1))\n",
            "  Downloading librosa-0.10.0-py3-none-any.whl.metadata (8.3 kB)\n",
            "Collecting numpy<1.24.1 (from -r requirements.txt (line 2))\n",
            "  Downloading numpy-1.24.0-cp311-cp311-manylinux_2_17_x86_64.manylinux2014_x86_64.whl.metadata (5.6 kB)\n",
            "Requirement already satisfied: opencv-contrib-python>=4.2.0.34 in /usr/local/lib/python3.11/dist-packages (from -r requirements.txt (line 3)) (4.11.0.86)\n",
            "Collecting opencv-python==4.7.0.72 (from -r requirements.txt (line 4))\n",
            "  Downloading opencv_python-4.7.0.72-cp37-abi3-manylinux_2_17_x86_64.manylinux2014_x86_64.whl.metadata (18 kB)\n",
            "Requirement already satisfied: torch>=1.7 in /usr/local/lib/python3.11/dist-packages (from -r requirements.txt (line 5)) (2.5.1+cu124)\n",
            "Requirement already satisfied: torchvision>=0.8.2 in /usr/local/lib/python3.11/dist-packages (from -r requirements.txt (line 6)) (0.20.1+cu124)\n",
            "Collecting tqdm==4.48 (from -r requirements.txt (line 7))\n",
            "  Downloading tqdm-4.48.0-py2.py3-none-any.whl.metadata (53 kB)\n",
            "\u001b[2K     \u001b[90m━━━━━━━━━━━━━━━━━━━━━━━━━━━━━━━━━━━━━━━━\u001b[0m \u001b[32m53.7/53.7 kB\u001b[0m \u001b[31m1.5 MB/s\u001b[0m eta \u001b[36m0:00:00\u001b[0m\n",
            "\u001b[?25hCollecting numba==0.56.4 (from -r requirements.txt (line 8))\n",
            "  Downloading numba-0.56.4.tar.gz (2.4 MB)\n",
            "\u001b[2K     \u001b[90m━━━━━━━━━━━━━━━━━━━━━━━━━━━━━━━━━━━━━━━━\u001b[0m \u001b[32m2.4/2.4 MB\u001b[0m \u001b[31m33.2 MB/s\u001b[0m eta \u001b[36m0:00:00\u001b[0m\n",
            "\u001b[?25h  \u001b[1;31merror\u001b[0m: \u001b[1msubprocess-exited-with-error\u001b[0m\n",
            "  \n",
            "  \u001b[31m×\u001b[0m \u001b[32mpython setup.py egg_info\u001b[0m did not run successfully.\n",
            "  \u001b[31m│\u001b[0m exit code: \u001b[1;36m1\u001b[0m\n",
            "  \u001b[31m╰─>\u001b[0m See above for output.\n",
            "  \n",
            "  \u001b[1;35mnote\u001b[0m: This error originates from a subprocess, and is likely not a problem with pip.\n",
            "  Preparing metadata (setup.py) ... \u001b[?25l\u001b[?25herror\n",
            "\u001b[1;31merror\u001b[0m: \u001b[1mmetadata-generation-failed\u001b[0m\n",
            "\n",
            "\u001b[31m×\u001b[0m Encountered error while generating package metadata.\n",
            "\u001b[31m╰─>\u001b[0m See above for output.\n",
            "\n",
            "\u001b[1;35mnote\u001b[0m: This is an issue with the package mentioned above, not pip.\n",
            "\u001b[1;36mhint\u001b[0m: See above for details.\n"
          ]
        }
      ],
      "source": [
        "!pip install -r requirements.txt"
      ]
    },
    {
      "cell_type": "code",
      "execution_count": 4,
      "metadata": {
        "colab": {
          "base_uri": "https://localhost:8080/"
        },
        "id": "xXjNXJBNAnRY",
        "outputId": "cb65b36c-1ffd-4cb6-ceee-296af4fec62f"
      },
      "outputs": [
        {
          "output_type": "stream",
          "name": "stdout",
          "text": [
            "Collecting pyngrok\n",
            "  Downloading pyngrok-7.2.3-py3-none-any.whl.metadata (8.7 kB)\n",
            "Requirement already satisfied: PyYAML>=5.1 in /usr/local/lib/python3.11/dist-packages (from pyngrok) (6.0.2)\n",
            "Downloading pyngrok-7.2.3-py3-none-any.whl (23 kB)\n",
            "Installing collected packages: pyngrok\n",
            "Successfully installed pyngrok-7.2.3\n"
          ]
        }
      ],
      "source": [
        "!pip install pyngrok"
      ]
    },
    {
      "cell_type": "code",
      "source": [
        "# Kill any existing ngrok processes\n",
        "!pkill ngrok\n",
        "\n",
        "# Clear any existing ngrok configurations\n",
        "!rm -rf ~/.ngrok2/"
      ],
      "metadata": {
        "id": "yb9dicptY1RA"
      },
      "execution_count": 5,
      "outputs": []
    },
    {
      "cell_type": "code",
      "execution_count": 6,
      "metadata": {
        "colab": {
          "base_uri": "https://localhost:8080/"
        },
        "id": "3oMXpXSEw9Ne",
        "outputId": "e68845a2-b3e5-4082-f991-92125b9d9516"
      },
      "outputs": [
        {
          "output_type": "stream",
          "name": "stdout",
          "text": [
            "Requirement already satisfied: pyngrok in /usr/local/lib/python3.11/dist-packages (7.2.3)\n",
            "Requirement already satisfied: PyYAML>=5.1 in /usr/local/lib/python3.11/dist-packages (from pyngrok) (6.0.2)\n",
            "Authtoken saved to configuration file: /root/.config/ngrok/ngrok.yml\n"
          ]
        }
      ],
      "source": [
        "!pip install pyngrok\n",
        "!ngrok authtoken 2jxIalskKSboowicj8S0OVp5EJp_nj6wCMhtnQ5ArpJUqkZj"
      ]
    },
    {
      "cell_type": "code",
      "source": [
        "!pip install flask_cors"
      ],
      "metadata": {
        "colab": {
          "base_uri": "https://localhost:8080/"
        },
        "id": "vrTrdKHeaUAB",
        "outputId": "d89c0b02-d73f-4b50-ab59-49ba816df45a"
      },
      "execution_count": 7,
      "outputs": [
        {
          "output_type": "stream",
          "name": "stdout",
          "text": [
            "Collecting flask_cors\n",
            "  Downloading flask_cors-5.0.1-py3-none-any.whl.metadata (961 bytes)\n",
            "Requirement already satisfied: flask>=0.9 in /usr/local/lib/python3.11/dist-packages (from flask_cors) (3.1.0)\n",
            "Requirement already satisfied: Werkzeug>=0.7 in /usr/local/lib/python3.11/dist-packages (from flask_cors) (3.1.3)\n",
            "Requirement already satisfied: Jinja2>=3.1.2 in /usr/local/lib/python3.11/dist-packages (from flask>=0.9->flask_cors) (3.1.5)\n",
            "Requirement already satisfied: itsdangerous>=2.2 in /usr/local/lib/python3.11/dist-packages (from flask>=0.9->flask_cors) (2.2.0)\n",
            "Requirement already satisfied: click>=8.1.3 in /usr/local/lib/python3.11/dist-packages (from flask>=0.9->flask_cors) (8.1.8)\n",
            "Requirement already satisfied: blinker>=1.9 in /usr/local/lib/python3.11/dist-packages (from flask>=0.9->flask_cors) (1.9.0)\n",
            "Requirement already satisfied: MarkupSafe>=2.1.1 in /usr/local/lib/python3.11/dist-packages (from Werkzeug>=0.7->flask_cors) (3.0.2)\n",
            "Downloading flask_cors-5.0.1-py3-none-any.whl (11 kB)\n",
            "Installing collected packages: flask_cors\n",
            "Successfully installed flask_cors-5.0.1\n"
          ]
        }
      ]
    },
    {
      "cell_type": "code",
      "source": [
        "!wget 'https://www.adrianbulat.com/downloads/python-fan/s3fd-619a316812.pth' -O 'Wav2Lip-master/face_detection/detection/sfd/s3fd.pth'\n",
        "!gdown https://drive.google.com/uc?id=1fQtBSYEyuai9MjBOF8j7zZ4oQ9W2N64q --output {wav2lipPath}'/checkpoints/'"
      ],
      "metadata": {
        "colab": {
          "base_uri": "https://localhost:8080/"
        },
        "id": "r_vAcEUjlci3",
        "outputId": "93c7d0fe-69c9-4125-9128-6b4472baff73"
      },
      "execution_count": 8,
      "outputs": [
        {
          "output_type": "stream",
          "name": "stdout",
          "text": [
            "--2025-03-09 11:13:47--  https://www.adrianbulat.com/downloads/python-fan/s3fd-619a316812.pth\n",
            "Resolving www.adrianbulat.com (www.adrianbulat.com)... 45.136.29.207\n",
            "Connecting to www.adrianbulat.com (www.adrianbulat.com)|45.136.29.207|:443... connected.\n",
            "HTTP request sent, awaiting response... 200 OK\n",
            "Length: 89843225 (86M) [application/octet-stream]\n",
            "Saving to: ‘Wav2Lip-master/face_detection/detection/sfd/s3fd.pth’\n",
            "\n",
            "Wav2Lip-master/face 100%[===================>]  85.68M  20.1MB/s    in 5.2s    \n",
            "\n",
            "2025-03-09 11:13:53 (16.5 MB/s) - ‘Wav2Lip-master/face_detection/detection/sfd/s3fd.pth’ saved [89843225/89843225]\n",
            "\n",
            "Downloading...\n",
            "From (original): https://drive.google.com/uc?id=1fQtBSYEyuai9MjBOF8j7zZ4oQ9W2N64q\n",
            "From (redirected): https://drive.google.com/uc?id=1fQtBSYEyuai9MjBOF8j7zZ4oQ9W2N64q&confirm=t&uuid=1f557346-8c42-4a3f-b9f6-002f3aaf683f\n",
            "To: /content/Wav2Lip-GFPGAN/{wav2lipPath}/checkpoints/wav2lip.pth\n",
            "100% 436M/436M [00:02<00:00, 171MB/s]\n"
          ]
        }
      ]
    },
    {
      "cell_type": "code",
      "source": [
        "!pip install yt-dlp\n",
        "!apt-get install ffmpeg\n",
        "!pip install gtts flask-cors\n",
        "!pip install mediapipe\n"
      ],
      "metadata": {
        "colab": {
          "base_uri": "https://localhost:8080/"
        },
        "id": "NmMouhYLBbPE",
        "outputId": "e4254506-ff08-4b51-f7f3-b977722a655a"
      },
      "execution_count": 9,
      "outputs": [
        {
          "output_type": "stream",
          "name": "stdout",
          "text": [
            "Collecting yt-dlp\n",
            "  Downloading yt_dlp-2025.2.19-py3-none-any.whl.metadata (171 kB)\n",
            "\u001b[?25l     \u001b[90m━━━━━━━━━━━━━━━━━━━━━━━━━━━━━━━━━━━━━━━━\u001b[0m \u001b[32m0.0/171.9 kB\u001b[0m \u001b[31m?\u001b[0m eta \u001b[36m-:--:--\u001b[0m\r\u001b[2K     \u001b[91m━━━━━━━━━━━━━━━━━━━━━━━━━━━━━━━━━━━━━━\u001b[0m\u001b[90m╺\u001b[0m\u001b[90m━\u001b[0m \u001b[32m163.8/171.9 kB\u001b[0m \u001b[31m11.1 MB/s\u001b[0m eta \u001b[36m0:00:01\u001b[0m\r\u001b[2K     \u001b[91m━━━━━━━━━━━━━━━━━━━━━━━━━━━━━━━━━━━━━━\u001b[0m\u001b[90m╺\u001b[0m\u001b[90m━\u001b[0m \u001b[32m163.8/171.9 kB\u001b[0m \u001b[31m11.1 MB/s\u001b[0m eta \u001b[36m0:00:01\u001b[0m\r\u001b[2K     \u001b[91m━━━━━━━━━━━━━━━━━━━━━━━━━━━━━━━━━━━━━━\u001b[0m\u001b[90m╺\u001b[0m\u001b[90m━\u001b[0m \u001b[32m163.8/171.9 kB\u001b[0m \u001b[31m11.1 MB/s\u001b[0m eta \u001b[36m0:00:01\u001b[0m\r\u001b[2K     \u001b[90m━━━━━━━━━━━━━━━━━━━━━━━━━━━━━━━━━━━━━━━━\u001b[0m \u001b[32m171.9/171.9 kB\u001b[0m \u001b[31m1.4 MB/s\u001b[0m eta \u001b[36m0:00:00\u001b[0m\n",
            "\u001b[?25hDownloading yt_dlp-2025.2.19-py3-none-any.whl (3.2 MB)\n",
            "\u001b[2K   \u001b[90m━━━━━━━━━━━━━━━━━━━━━━━━━━━━━━━━━━━━━━━━\u001b[0m \u001b[32m3.2/3.2 MB\u001b[0m \u001b[31m35.7 MB/s\u001b[0m eta \u001b[36m0:00:00\u001b[0m\n",
            "\u001b[?25hInstalling collected packages: yt-dlp\n",
            "Successfully installed yt-dlp-2025.2.19\n",
            "Reading package lists... Done\n",
            "Building dependency tree... Done\n",
            "Reading state information... Done\n",
            "ffmpeg is already the newest version (7:4.4.2-0ubuntu0.22.04.1).\n",
            "0 upgraded, 0 newly installed, 0 to remove and 29 not upgraded.\n",
            "Collecting gtts\n",
            "  Downloading gTTS-2.5.4-py3-none-any.whl.metadata (4.1 kB)\n",
            "Requirement already satisfied: flask-cors in /usr/local/lib/python3.11/dist-packages (5.0.1)\n",
            "Requirement already satisfied: requests<3,>=2.27 in /usr/local/lib/python3.11/dist-packages (from gtts) (2.32.3)\n",
            "Requirement already satisfied: click<8.2,>=7.1 in /usr/local/lib/python3.11/dist-packages (from gtts) (8.1.8)\n",
            "Requirement already satisfied: flask>=0.9 in /usr/local/lib/python3.11/dist-packages (from flask-cors) (3.1.0)\n",
            "Requirement already satisfied: Werkzeug>=0.7 in /usr/local/lib/python3.11/dist-packages (from flask-cors) (3.1.3)\n",
            "Requirement already satisfied: Jinja2>=3.1.2 in /usr/local/lib/python3.11/dist-packages (from flask>=0.9->flask-cors) (3.1.5)\n",
            "Requirement already satisfied: itsdangerous>=2.2 in /usr/local/lib/python3.11/dist-packages (from flask>=0.9->flask-cors) (2.2.0)\n",
            "Requirement already satisfied: blinker>=1.9 in /usr/local/lib/python3.11/dist-packages (from flask>=0.9->flask-cors) (1.9.0)\n",
            "Requirement already satisfied: charset-normalizer<4,>=2 in /usr/local/lib/python3.11/dist-packages (from requests<3,>=2.27->gtts) (3.4.1)\n",
            "Requirement already satisfied: idna<4,>=2.5 in /usr/local/lib/python3.11/dist-packages (from requests<3,>=2.27->gtts) (3.10)\n",
            "Requirement already satisfied: urllib3<3,>=1.21.1 in /usr/local/lib/python3.11/dist-packages (from requests<3,>=2.27->gtts) (2.3.0)\n",
            "Requirement already satisfied: certifi>=2017.4.17 in /usr/local/lib/python3.11/dist-packages (from requests<3,>=2.27->gtts) (2025.1.31)\n",
            "Requirement already satisfied: MarkupSafe>=2.1.1 in /usr/local/lib/python3.11/dist-packages (from Werkzeug>=0.7->flask-cors) (3.0.2)\n",
            "Downloading gTTS-2.5.4-py3-none-any.whl (29 kB)\n",
            "Installing collected packages: gtts\n",
            "Successfully installed gtts-2.5.4\n",
            "Collecting mediapipe\n",
            "  Downloading mediapipe-0.10.21-cp311-cp311-manylinux_2_28_x86_64.whl.metadata (9.7 kB)\n",
            "Requirement already satisfied: absl-py in /usr/local/lib/python3.11/dist-packages (from mediapipe) (1.4.0)\n",
            "Requirement already satisfied: attrs>=19.1.0 in /usr/local/lib/python3.11/dist-packages (from mediapipe) (25.1.0)\n",
            "Requirement already satisfied: flatbuffers>=2.0 in /usr/local/lib/python3.11/dist-packages (from mediapipe) (25.2.10)\n",
            "Requirement already satisfied: jax in /usr/local/lib/python3.11/dist-packages (from mediapipe) (0.4.33)\n",
            "Requirement already satisfied: jaxlib in /usr/local/lib/python3.11/dist-packages (from mediapipe) (0.4.33)\n",
            "Requirement already satisfied: matplotlib in /usr/local/lib/python3.11/dist-packages (from mediapipe) (3.10.0)\n",
            "Requirement already satisfied: numpy<2 in /usr/local/lib/python3.11/dist-packages (from mediapipe) (1.26.4)\n",
            "Requirement already satisfied: opencv-contrib-python in /usr/local/lib/python3.11/dist-packages (from mediapipe) (4.11.0.86)\n",
            "Requirement already satisfied: protobuf<5,>=4.25.3 in /usr/local/lib/python3.11/dist-packages (from mediapipe) (4.25.6)\n",
            "Collecting sounddevice>=0.4.4 (from mediapipe)\n",
            "  Downloading sounddevice-0.5.1-py3-none-any.whl.metadata (1.4 kB)\n",
            "Requirement already satisfied: sentencepiece in /usr/local/lib/python3.11/dist-packages (from mediapipe) (0.2.0)\n",
            "Requirement already satisfied: CFFI>=1.0 in /usr/local/lib/python3.11/dist-packages (from sounddevice>=0.4.4->mediapipe) (1.17.1)\n",
            "Requirement already satisfied: ml-dtypes>=0.2.0 in /usr/local/lib/python3.11/dist-packages (from jax->mediapipe) (0.4.1)\n",
            "Requirement already satisfied: opt-einsum in /usr/local/lib/python3.11/dist-packages (from jax->mediapipe) (3.4.0)\n",
            "Requirement already satisfied: scipy>=1.10 in /usr/local/lib/python3.11/dist-packages (from jax->mediapipe) (1.13.1)\n",
            "Requirement already satisfied: contourpy>=1.0.1 in /usr/local/lib/python3.11/dist-packages (from matplotlib->mediapipe) (1.3.1)\n",
            "Requirement already satisfied: cycler>=0.10 in /usr/local/lib/python3.11/dist-packages (from matplotlib->mediapipe) (0.12.1)\n",
            "Requirement already satisfied: fonttools>=4.22.0 in /usr/local/lib/python3.11/dist-packages (from matplotlib->mediapipe) (4.56.0)\n",
            "Requirement already satisfied: kiwisolver>=1.3.1 in /usr/local/lib/python3.11/dist-packages (from matplotlib->mediapipe) (1.4.8)\n",
            "Requirement already satisfied: packaging>=20.0 in /usr/local/lib/python3.11/dist-packages (from matplotlib->mediapipe) (24.2)\n",
            "Requirement already satisfied: pillow>=8 in /usr/local/lib/python3.11/dist-packages (from matplotlib->mediapipe) (11.1.0)\n",
            "Requirement already satisfied: pyparsing>=2.3.1 in /usr/local/lib/python3.11/dist-packages (from matplotlib->mediapipe) (3.2.1)\n",
            "Requirement already satisfied: python-dateutil>=2.7 in /usr/local/lib/python3.11/dist-packages (from matplotlib->mediapipe) (2.8.2)\n",
            "Requirement already satisfied: pycparser in /usr/local/lib/python3.11/dist-packages (from CFFI>=1.0->sounddevice>=0.4.4->mediapipe) (2.22)\n",
            "Requirement already satisfied: six>=1.5 in /usr/local/lib/python3.11/dist-packages (from python-dateutil>=2.7->matplotlib->mediapipe) (1.17.0)\n",
            "Downloading mediapipe-0.10.21-cp311-cp311-manylinux_2_28_x86_64.whl (35.6 MB)\n",
            "\u001b[2K   \u001b[90m━━━━━━━━━━━━━━━━━━━━━━━━━━━━━━━━━━━━━━━━\u001b[0m \u001b[32m35.6/35.6 MB\u001b[0m \u001b[31m56.3 MB/s\u001b[0m eta \u001b[36m0:00:00\u001b[0m\n",
            "\u001b[?25hDownloading sounddevice-0.5.1-py3-none-any.whl (32 kB)\n",
            "Installing collected packages: sounddevice, mediapipe\n",
            "Successfully installed mediapipe-0.10.21 sounddevice-0.5.1\n"
          ]
        }
      ]
    },
    {
      "cell_type": "code",
      "source": [
        "!pip uninstall -y opencv-python opencv-python-headless moviepy\n",
        "!pip install opencv-python-headless==4.5.5.64 moviepy==1.0.3\n"
      ],
      "metadata": {
        "colab": {
          "base_uri": "https://localhost:8080/"
        },
        "id": "E3s2pMzIKTOx",
        "outputId": "0ed6c395-ec35-4c52-8f36-b438112d84e4"
      },
      "execution_count": 10,
      "outputs": [
        {
          "output_type": "stream",
          "name": "stdout",
          "text": [
            "Found existing installation: opencv-python 4.11.0.86\n",
            "Uninstalling opencv-python-4.11.0.86:\n",
            "  Successfully uninstalled opencv-python-4.11.0.86\n",
            "Found existing installation: opencv-python-headless 4.11.0.86\n",
            "Uninstalling opencv-python-headless-4.11.0.86:\n",
            "  Successfully uninstalled opencv-python-headless-4.11.0.86\n",
            "Found existing installation: moviepy 1.0.3\n",
            "Uninstalling moviepy-1.0.3:\n",
            "  Successfully uninstalled moviepy-1.0.3\n",
            "Collecting opencv-python-headless==4.5.5.64\n",
            "  Downloading opencv_python_headless-4.5.5.64-cp36-abi3-manylinux_2_17_x86_64.manylinux2014_x86_64.whl.metadata (18 kB)\n",
            "Collecting moviepy==1.0.3\n",
            "  Downloading moviepy-1.0.3.tar.gz (388 kB)\n",
            "\u001b[2K     \u001b[90m━━━━━━━━━━━━━━━━━━━━━━━━━━━━━━━━━━━━━━━━\u001b[0m \u001b[32m388.3/388.3 kB\u001b[0m \u001b[31m14.3 MB/s\u001b[0m eta \u001b[36m0:00:00\u001b[0m\n",
            "\u001b[?25h  Preparing metadata (setup.py) ... \u001b[?25l\u001b[?25hdone\n",
            "Requirement already satisfied: numpy>=1.21.2 in /usr/local/lib/python3.11/dist-packages (from opencv-python-headless==4.5.5.64) (1.26.4)\n",
            "Requirement already satisfied: decorator<5.0,>=4.0.2 in /usr/local/lib/python3.11/dist-packages (from moviepy==1.0.3) (4.4.2)\n",
            "Requirement already satisfied: imageio<3.0,>=2.5 in /usr/local/lib/python3.11/dist-packages (from moviepy==1.0.3) (2.37.0)\n",
            "Requirement already satisfied: imageio_ffmpeg>=0.2.0 in /usr/local/lib/python3.11/dist-packages (from moviepy==1.0.3) (0.6.0)\n",
            "Requirement already satisfied: tqdm<5.0,>=4.11.2 in /usr/local/lib/python3.11/dist-packages (from moviepy==1.0.3) (4.67.1)\n",
            "Requirement already satisfied: requests<3.0,>=2.8.1 in /usr/local/lib/python3.11/dist-packages (from moviepy==1.0.3) (2.32.3)\n",
            "Requirement already satisfied: proglog<=1.0.0 in /usr/local/lib/python3.11/dist-packages (from moviepy==1.0.3) (0.1.10)\n",
            "Requirement already satisfied: pillow>=8.3.2 in /usr/local/lib/python3.11/dist-packages (from imageio<3.0,>=2.5->moviepy==1.0.3) (11.1.0)\n",
            "Requirement already satisfied: charset-normalizer<4,>=2 in /usr/local/lib/python3.11/dist-packages (from requests<3.0,>=2.8.1->moviepy==1.0.3) (3.4.1)\n",
            "Requirement already satisfied: idna<4,>=2.5 in /usr/local/lib/python3.11/dist-packages (from requests<3.0,>=2.8.1->moviepy==1.0.3) (3.10)\n",
            "Requirement already satisfied: urllib3<3,>=1.21.1 in /usr/local/lib/python3.11/dist-packages (from requests<3.0,>=2.8.1->moviepy==1.0.3) (2.3.0)\n",
            "Requirement already satisfied: certifi>=2017.4.17 in /usr/local/lib/python3.11/dist-packages (from requests<3.0,>=2.8.1->moviepy==1.0.3) (2025.1.31)\n",
            "Downloading opencv_python_headless-4.5.5.64-cp36-abi3-manylinux_2_17_x86_64.manylinux2014_x86_64.whl (47.8 MB)\n",
            "\u001b[2K   \u001b[90m━━━━━━━━━━━━━━━━━━━━━━━━━━━━━━━━━━━━━━━━\u001b[0m \u001b[32m47.8/47.8 MB\u001b[0m \u001b[31m11.5 MB/s\u001b[0m eta \u001b[36m0:00:00\u001b[0m\n",
            "\u001b[?25hBuilding wheels for collected packages: moviepy\n",
            "  Building wheel for moviepy (setup.py) ... \u001b[?25l\u001b[?25hdone\n",
            "  Created wheel for moviepy: filename=moviepy-1.0.3-py3-none-any.whl size=110711 sha256=40382cbcb5de0d4f4b58724a53b3ec2714aeea786abcc171b41c91fd40fc3ff8\n",
            "  Stored in directory: /root/.cache/pip/wheels/83/b1/d9/119ef7c144b44d591ec0a9a140465133c23ea95d2a161184ba\n",
            "Successfully built moviepy\n",
            "Installing collected packages: opencv-python-headless, moviepy\n",
            "\u001b[31mERROR: pip's dependency resolver does not currently take into account all the packages that are installed. This behaviour is the source of the following dependency conflicts.\n",
            "albumentations 2.0.5 requires opencv-python-headless>=4.9.0.80, but you have opencv-python-headless 4.5.5.64 which is incompatible.\n",
            "albucore 0.0.23 requires opencv-python-headless>=4.9.0.80, but you have opencv-python-headless 4.5.5.64 which is incompatible.\u001b[0m\u001b[31m\n",
            "\u001b[0mSuccessfully installed moviepy-1.0.3 opencv-python-headless-4.5.5.64\n"
          ]
        }
      ]
    },
    {
      "cell_type": "code",
      "source": [
        "!pkill ngrok\n",
        "!nohup ngrok http 5000 --log=stdout > ngrok.log &\n"
      ],
      "metadata": {
        "colab": {
          "base_uri": "https://localhost:8080/"
        },
        "id": "XH24T9AC1xzp",
        "outputId": "70da3365-ba3f-4580-c867-434673fd7ba7"
      },
      "execution_count": 17,
      "outputs": [
        {
          "output_type": "stream",
          "name": "stdout",
          "text": [
            "nohup: redirecting stderr to stdout\n"
          ]
        }
      ]
    },
    {
      "cell_type": "code",
      "source": [
        "!ngrok http 5000 --scheme=https."
      ],
      "metadata": {
        "colab": {
          "base_uri": "https://localhost:8080/"
        },
        "id": "tZDTEBUCiwrR",
        "outputId": "d497f0f8-a351-4bc8-d87c-559cff8fffe8"
      },
      "execution_count": 18,
      "outputs": [
        {
          "output_type": "stream",
          "name": "stdout",
          "text": [
            "Flag --scheme has been deprecated, use --url instead\n",
            "ERROR:  HTTP tunnel 'command_line' specifies invalid scheme 'https.'. use 'https' or 'http'\n"
          ]
        }
      ]
    },
    {
      "cell_type": "code",
      "execution_count": 11,
      "metadata": {
        "colab": {
          "base_uri": "https://localhost:8080/"
        },
        "id": "OCNClSYjupX2",
        "outputId": "92df154f-1dfb-4faa-d370-ff820b9808d9"
      },
      "outputs": [
        {
          "output_type": "stream",
          "name": "stdout",
          "text": [
            "\n",
            "==================================================\n",
            "Ngrok URL: https://a7ef-34-82-129-68.ngrok-free.app\n",
            "Copy this URL into the 'Server URL' field in the HTML page\n",
            "==================================================\n",
            "\n",
            " * Serving Flask app '__main__'\n",
            " * Debug mode: off\n"
          ]
        },
        {
          "output_type": "stream",
          "name": "stderr",
          "text": [
            "INFO:werkzeug:\u001b[31m\u001b[1mWARNING: This is a development server. Do not use it in a production deployment. Use a production WSGI server instead.\u001b[0m\n",
            " * Running on all addresses (0.0.0.0)\n",
            " * Running on http://127.0.0.1:5000\n",
            " * Running on http://172.28.0.12:5000\n",
            "INFO:werkzeug:\u001b[33mPress CTRL+C to quit\u001b[0m\n"
          ]
        },
        {
          "output_type": "stream",
          "name": "stdout",
          "text": [
            "Processing video: /content/face_detect_inputs/input_video_1741527030.mp4\n"
          ]
        },
        {
          "output_type": "stream",
          "name": "stderr",
          "text": [
            "Processing Frames: 100%|██████████| 476/476 [00:11<00:00, 41.98it/s]\n"
          ]
        },
        {
          "output_type": "stream",
          "name": "stdout",
          "text": [
            "Moviepy - Building video /content/processed_videos/lip_mapped_1741527030.mp4.\n",
            "Moviepy - Writing video /content/processed_videos/lip_mapped_1741527030.mp4\n",
            "\n"
          ]
        },
        {
          "output_type": "stream",
          "name": "stderr",
          "text": []
        },
        {
          "output_type": "stream",
          "name": "stdout",
          "text": [
            "Moviepy - Done !\n",
            "Moviepy - video ready /content/processed_videos/lip_mapped_1741527030.mp4\n",
            "✅ Lip-mapped video saved: /content/processed_videos/lip_mapped_1741527030.mp4\n"
          ]
        },
        {
          "output_type": "stream",
          "name": "stderr",
          "text": [
            "INFO:werkzeug:103.203.73.20 - - [09/Mar/2025 13:31:26] \"POST /process_video HTTP/1.1\" 200 -\n"
          ]
        }
      ],
      "source": [
        "from flask import Flask, request, send_file, jsonify, send_from_directory, abort\n",
        "from flask_cors import CORS\n",
        "from gtts import gTTS\n",
        "from werkzeug.middleware.proxy_fix import ProxyFix\n",
        "import io\n",
        "import os\n",
        "import subprocess\n",
        "import time\n",
        "import logging\n",
        "import librosa\n",
        "import gc\n",
        "import torch\n",
        "import cv2\n",
        "import base64\n",
        "import numpy as np\n",
        "import mediapipe as mp\n",
        "from tqdm import tqdm\n",
        "from werkzeug.utils import secure_filename\n",
        "from moviepy.editor import VideoFileClip, ImageSequenceClip\n",
        "\n",
        "# Configure logging\n",
        "logging.basicConfig(level=logging.INFO)\n",
        "logger = logging.getLogger(__name__)\n",
        "\n",
        "\n",
        "\n",
        "# Initialize Flask app\n",
        "app = Flask(__name__)\n",
        "# Add this after creating the Flask app\n",
        "app.wsgi_app = ProxyFix(app.wsgi_app, x_proto=1, x_host=1)\n",
        "CORS(app, resources={\n",
        "    r\"/*\": {\n",
        "        \"origins\": \"*\",\n",
        "        \"methods\": [\"GET\", \"POST\", \"OPTIONS\"],\n",
        "        \"allow_headers\": [\"Content-Type\", \"Authorization\"],\n",
        "        \"supports_credentials\": True\n",
        "    }\n",
        "})\n",
        "\n",
        "\n",
        "# Ensure paths exist\n",
        "UPLOAD_FOLDER = \"/content\"\n",
        "INPUT_FACE_VIDEO = os.path.join(UPLOAD_FOLDER, \"face_detect_inputs\")\n",
        "FACE_FRAMES_FOLDER = os.path.join(UPLOAD_FOLDER, \"face_frames\")\n",
        "PROCESSED_VIDEOS_FOLDER = os.path.join(UPLOAD_FOLDER, \"processed_videos\")\n",
        "\n",
        "# Define paths\n",
        "BASE_PATH = \"/content/Wav2Lip-GFPGAN\"\n",
        "WAV2LIP_PATH = os.path.join(BASE_PATH, \"Wav2Lip-master\")\n",
        "OUTPUT_PATH = os.path.join(BASE_PATH, \"outputs\")\n",
        "\n",
        "# Create output directory if it doesn't exist\n",
        "os.makedirs(OUTPUT_PATH, exist_ok=True)\n",
        "\n",
        "# Ensure folders exist\n",
        "os.makedirs(INPUT_FACE_VIDEO, exist_ok=True)\n",
        "os.makedirs(FACE_FRAMES_FOLDER, exist_ok=True)\n",
        "os.makedirs(PROCESSED_VIDEOS_FOLDER, exist_ok=True)\n",
        "\n",
        "mp_face_mesh = mp.solutions.face_mesh\n",
        "mp_face_detection = mp.solutions.face_detection\n",
        "face_mesh = mp_face_mesh.FaceMesh(refine_landmarks=True)\n",
        "face_detection = mp_face_detection.FaceDetection()\n",
        "\n",
        "def clean_memory():\n",
        "    \"\"\"Clean up GPU and CPU memory\"\"\"\n",
        "    gc.collect()\n",
        "    if torch.cuda.is_available():\n",
        "        torch.cuda.empty_cache()\n",
        "\n",
        "def run_wav2lip(input_video, input_audio, output_path):\n",
        "    \"\"\"Run Wav2Lip with correct parameters\"\"\"\n",
        "    try:\n",
        "        # Clean memory before processing\n",
        "        clean_memory()\n",
        "\n",
        "        # Change directory to WAV2LIP_PATH first\n",
        "        original_dir = os.getcwd()\n",
        "        os.chdir(WAV2LIP_PATH)\n",
        "\n",
        "        # Construct the command with correct parameters\n",
        "        command = [\n",
        "            \"python\", \"inference.py\",\n",
        "            \"--checkpoint_path\", \"/content/Wav2Lip-GFPGAN/{wav2lipPath}/checkpoints/wav2lip.pth\",\n",
        "            \"--face\", input_video,\n",
        "            \"--audio\", input_audio,\n",
        "            \"--outfile\", output_path,\n",
        "            \"--wav2lip_batch_size\", \"4\",\n",
        "            \"--face_det_batch_size\", \"4\",\n",
        "            \"--resize_factor\", \"1\"\n",
        "        ]\n",
        "\n",
        "        # Run the command with timeout\n",
        "        process = subprocess.Popen(\n",
        "            command,\n",
        "            stdout=subprocess.PIPE,\n",
        "            stderr=subprocess.PIPE,\n",
        "            text=True\n",
        "        )\n",
        "\n",
        "        try:\n",
        "            # Wait for completion with timeout\n",
        "            stdout, stderr = process.communicate(timeout=300)  # 5 minute timeout\n",
        "\n",
        "            if stdout:\n",
        "                logger.info(f\"Wav2Lip output: {stdout}\")\n",
        "            if stderr:\n",
        "                logger.error(f\"Wav2Lip error: {stderr}\")\n",
        "\n",
        "            success = process.returncode == 0\n",
        "\n",
        "            # Check if output file exists\n",
        "            if success and not os.path.exists(output_path):\n",
        "                logger.error(\"Output file not created despite successful return code\")\n",
        "                success = False\n",
        "\n",
        "            return success\n",
        "\n",
        "        except subprocess.TimeoutExpired:\n",
        "            process.kill()\n",
        "            logger.error(\"Wav2Lip process timed out\")\n",
        "            return False\n",
        "\n",
        "    except Exception as e:\n",
        "        logger.error(f\"Error running Wav2Lip: {str(e)}\")\n",
        "        return False\n",
        "    finally:\n",
        "        # Return to original directory\n",
        "        os.chdir(original_dir)\n",
        "        clean_memory()\n",
        "\n",
        "def extract_faces(video_path, max_frames=35):\n",
        "    \"\"\"Extract face images from video.\"\"\"\n",
        "    cap = cv2.VideoCapture(video_path)\n",
        "    frame_count = 0\n",
        "    face_urls = []\n",
        "\n",
        "    while cap.isOpened() and frame_count < max_frames:\n",
        "        ret, frame = cap.read()\n",
        "        if not ret:\n",
        "            break\n",
        "\n",
        "        rgb_frame = cv2.cvtColor(frame, cv2.COLOR_BGR2RGB)\n",
        "        results = face_detection.process(rgb_frame)\n",
        "\n",
        "        if results.detections:\n",
        "            for detection in results.detections:\n",
        "                bboxC = detection.location_data.relative_bounding_box\n",
        "                h, w, c = frame.shape\n",
        "                x, y, w, h = int(bboxC.xmin * w), int(bboxC.ymin * h), int(bboxC.width * w), int(bboxC.height * h)\n",
        "\n",
        "                if x >= 0 and y >= 0 and w > 0 and h > 0:\n",
        "                    face = frame[y:y+h, x:x+w]\n",
        "                    face_filename = os.path.join(FACE_FRAMES_FOLDER, f\"face_{frame_count}.jpg\")\n",
        "                    cv2.imwrite(face_filename, face)\n",
        "                    face_urls.append(f\"/frames/face_{frame_count}.jpg\")\n",
        "                    frame_count += 1\n",
        "\n",
        "        if frame_count >= max_frames:\n",
        "            break\n",
        "\n",
        "    cap.release()\n",
        "    return face_urls\n",
        "\n",
        "class LipSyncGenerator:\n",
        "    \"\"\"Class to process lip landmarks\"\"\"\n",
        "    def __init__(self):\n",
        "        self.face_mesh = mp.solutions.face_mesh.FaceMesh(\n",
        "            static_image_mode=False, max_num_faces=1, min_detection_confidence=0.5, min_tracking_confidence=0.5\n",
        "        )\n",
        "        self.lip_indices = [\n",
        "            61, 146, 91, 181, 84, 17, 314, 405, 321, 375,\n",
        "            291, 308, 324, 318, 402, 317, 14, 87, 178, 88,\n",
        "            95, 78, 191, 80, 81, 82\n",
        "        ]\n",
        "\n",
        "    def extract_face_landmarks(self, frame):\n",
        "        \"\"\"Extract facial landmarks using MediaPipe\"\"\"\n",
        "        rgb_frame = cv2.cvtColor(frame, cv2.COLOR_BGR2RGB)\n",
        "        results = self.face_mesh.process(rgb_frame)\n",
        "\n",
        "        if results.multi_face_landmarks:\n",
        "            face_landmarks = results.multi_face_landmarks[0]\n",
        "            frame_height, frame_width = frame.shape[:2]\n",
        "            lip_points = np.array([\n",
        "                (int(face_landmarks.landmark[idx].x * frame_width), int(face_landmarks.landmark[idx].y * frame_height))\n",
        "                for idx in self.lip_indices\n",
        "            ], dtype=np.float32)\n",
        "            return lip_points\n",
        "        return None\n",
        "\n",
        "    def process_lip_tracking(self, video_path, output_path):\n",
        "        \"\"\"Process video and map lip movements\"\"\"\n",
        "        print(f\"Processing video: {video_path}\")\n",
        "        video_clip = VideoFileClip(video_path)\n",
        "        frames = []\n",
        "\n",
        "        for i in tqdm(range(int(video_clip.duration * video_clip.fps)), desc=\"Processing Frames\"):\n",
        "            frame = video_clip.get_frame(i / video_clip.fps)\n",
        "            if frame.dtype != np.uint8:\n",
        "                frame = (frame * 255).astype(np.uint8)\n",
        "\n",
        "            landmarks = self.extract_face_landmarks(frame)\n",
        "            if landmarks is not None:\n",
        "                for point in landmarks:\n",
        "                  x, y = map(int, point)  # Convert to integer\n",
        "                  cv2.circle(frame, (x, y), 3, (0, 255, 0), -1)\n",
        "\n",
        "            frames.append(frame)\n",
        "\n",
        "        output_clip = ImageSequenceClip(frames, fps=video_clip.fps)\n",
        "        output_clip.write_videofile(output_path, codec=\"libx264\", audio_codec=\"aac\")\n",
        "        print(f\"✅ Lip-mapped video saved: {output_path}\")\n",
        "        return True\n",
        "\n",
        "lip_sync = LipSyncGenerator()\n",
        "\n",
        "\n",
        "@app.route(\"/process_video\", methods=[\"POST\"])\n",
        "def process_video():\n",
        "    try:\n",
        "        if \"video\" not in request.files:\n",
        "            return jsonify({\"error\": \"No video file uploaded\"}), 400\n",
        "\n",
        "        video = request.files[\"video\"]\n",
        "        timestamp = int(time.time())\n",
        "        input_video_path = os.path.join(INPUT_FACE_VIDEO, f\"input_video_{timestamp}.mp4\")\n",
        "        lip_video_path = os.path.join(PROCESSED_VIDEOS_FOLDER, f\"lip_mapped_{timestamp}.mp4\")\n",
        "\n",
        "        # Save uploaded video\n",
        "        video.save(input_video_path)\n",
        "\n",
        "        # Extract face frames and get base64 encoded images\n",
        "        face_frames_data = []\n",
        "        face_urls = extract_faces(input_video_path)\n",
        "\n",
        "        for i in range(len(face_urls)):\n",
        "            frame_path = os.path.join(FACE_FRAMES_FOLDER, f\"face_{i}.jpg\")\n",
        "            if os.path.exists(frame_path):\n",
        "                with open(frame_path, \"rb\") as img_file:\n",
        "                    base64_image = base64.b64encode(img_file.read()).decode('utf-8')\n",
        "                    face_frames_data.append(f\"data:image/jpeg;base64,{base64_image}\")\n",
        "\n",
        "        # Process video for lip tracking\n",
        "        success = lip_sync.process_lip_tracking(input_video_path, lip_video_path)\n",
        "        if not success:\n",
        "            return jsonify({\"error\": \"Lip mapping failed\"}), 500\n",
        "\n",
        "        # Convert video to base64\n",
        "        with open(lip_video_path, \"rb\") as video_file:\n",
        "            base64_video = base64.b64encode(video_file.read()).decode('utf-8')\n",
        "\n",
        "        response = {\n",
        "            \"face_frames\": face_frames_data,\n",
        "            \"lip_mapped_video\": f\"data:video/mp4;base64,{base64_video}\"\n",
        "        }\n",
        "\n",
        "        return jsonify(response)\n",
        "\n",
        "    except Exception as e:\n",
        "        print(f\"Error in process_video: {str(e)}\")\n",
        "        return jsonify({\"error\": str(e)}), 500\n",
        "    finally:\n",
        "        clean_memory()\n",
        "\n",
        "@app.after_request\n",
        "def after_request(response):\n",
        "    response.headers.add('Access-Control-Allow-Origin', '*')\n",
        "    response.headers.add('Access-Control-Allow-Headers', 'Content-Type')\n",
        "    response.headers.add('Access-Control-Allow-Methods', 'GET,PUT,POST,DELETE,OPTIONS')\n",
        "    return response\n",
        "\n",
        "@app.route(\"/face_frames/<filename>\")\n",
        "def get_face_frame(filename):\n",
        "    try:\n",
        "        file_path = os.path.join(FACE_FRAMES_FOLDER, filename)\n",
        "        if not os.path.exists(file_path):\n",
        "            return jsonify({\"error\": \"File not found\"}), 404\n",
        "\n",
        "        # Read the image and convert to base64\n",
        "        with open(file_path, \"rb\") as image_file:\n",
        "            encoded_string = base64.b64encode(image_file.read()).decode('utf-8')\n",
        "\n",
        "        return jsonify({\n",
        "            \"image\": encoded_string,\n",
        "            \"content_type\": \"image/jpeg\"\n",
        "        })\n",
        "    except Exception as e:\n",
        "        print(f\"Error serving face frame {filename}: {str(e)}\")\n",
        "        return jsonify({\"error\": str(e)}), 500\n",
        "\n",
        "@app.route(\"/processed_videos/<filename>\")\n",
        "def get_processed_video(filename):\n",
        "    try:\n",
        "        file_path = os.path.join(PROCESSED_VIDEOS_FOLDER, filename)\n",
        "        if not os.path.exists(file_path):\n",
        "            return jsonify({\"error\": \"File not found\"}), 404\n",
        "\n",
        "        # Read the video and convert to base64\n",
        "        with open(file_path, \"rb\") as video_file:\n",
        "            encoded_string = base64.b64encode(video_file.read()).decode('utf-8')\n",
        "\n",
        "        return jsonify({\n",
        "            \"video\": encoded_string,\n",
        "            \"content_type\": \"video/mp4\"\n",
        "        })\n",
        "    except Exception as e:\n",
        "        print(f\"Error serving video {filename}: {str(e)}\")\n",
        "        return jsonify({\"error\": str(e)}), 500\n",
        "\n",
        "# Debugging: Show files in directory\n",
        "@app.route(\"/list_files\")\n",
        "def list_files():\n",
        "    frames = os.listdir(FACE_FRAMES_FOLDER)\n",
        "    videos = os.listdir(PROCESSED_VIDEOS_FOLDER)\n",
        "    return {\"face_frames\": frames, \"processed_videos\": videos}\n",
        "\n",
        "@app.route('/health', methods=['GET'])\n",
        "def health_check():\n",
        "    \"\"\"Simple health check endpoint\"\"\"\n",
        "    return jsonify({\"status\": \"healthy\"})\n",
        "\n",
        "@app.route('/download_youtube', methods=['POST'])\n",
        "def download_youtube():\n",
        "    \"\"\"Download and trim a YouTube video\"\"\"\n",
        "    try:\n",
        "        data = request.json\n",
        "        youtube_url = data.get('youtube_url')\n",
        "        start_time = data.get('start_time')\n",
        "        duration = data.get('duration')\n",
        "        print(f\"Received URL: {youtube_url}\")  # This prints the received URL in the terminal\n",
        "        print(\"Received data:\", request.json)\n",
        "\n",
        "        if not youtube_url or start_time is None or duration is None:\n",
        "            return jsonify({\"error\": \"Missing required parameters\"}), 400\n",
        "\n",
        "        timestamp = int(time.time())\n",
        "        raw_video_path = os.path.join(OUTPUT_PATH, f\"raw_video_{timestamp}.mp4\")\n",
        "        trimmed_video_path = os.path.join(OUTPUT_PATH, f\"trimmed_video_{timestamp}.mp4\")\n",
        "\n",
        "        # Download video using yt-dlp\n",
        "        yt_command = [\n",
        "            \"yt-dlp\",\n",
        "            \"-f\", \"best\",\n",
        "            \"-o\", raw_video_path,\n",
        "            youtube_url\n",
        "        ]\n",
        "\n",
        "        yt_process = subprocess.run(yt_command, capture_output=True, text=True)\n",
        "        if yt_process.returncode != 0:\n",
        "            return jsonify({\"error\": \"Failed to download YouTube video\", \"details\": yt_process.stderr}), 500\n",
        "\n",
        "        # Trim video using ffmpeg\n",
        "        trim_command = [\n",
        "            \"ffmpeg\",\n",
        "            \"-i\", raw_video_path,\n",
        "            \"-ss\", str(start_time),\n",
        "            \"-t\", str(duration),\n",
        "            \"-c\", \"copy\",\n",
        "            trimmed_video_path\n",
        "        ]\n",
        "\n",
        "        trim_process = subprocess.run(trim_command, capture_output=True, text=True)\n",
        "        if trim_process.returncode != 0:\n",
        "            return jsonify({\"error\": \"Failed to trim video\", \"details\": trim_process.stderr}), 500\n",
        "\n",
        "        return send_file(trimmed_video_path, mimetype='video/mp4', as_attachment=True, download_name=\"trimmed_video.mp4\")\n",
        "\n",
        "    except Exception as e:\n",
        "        return jsonify({\"error\": str(e)}), 500\n",
        "\n",
        "@app.route(\"/convert_fps\", methods=[\"POST\"])\n",
        "def convert_fps():\n",
        "    \"\"\"Convert video to the specified frame rate.\"\"\"\n",
        "    try:\n",
        "        if \"video\" not in request.files:\n",
        "            return jsonify({\"error\": \"No video file uploaded\"}), 400\n",
        "\n",
        "        video = request.files[\"video\"]\n",
        "        frame_rate = request.form.get(\"frame_rate\")\n",
        "\n",
        "        if not frame_rate:\n",
        "            return jsonify({\"error\": \"Frame rate not specified\"}), 400\n",
        "\n",
        "        timestamp = int(time.time())\n",
        "        input_video_path = os.path.join(OUTPUT_PATH, f\"input_video_{timestamp}.mp4\")\n",
        "        output_video_path = os.path.join(OUTPUT_PATH, f\"converted_video_{timestamp}.mp4\")\n",
        "\n",
        "        # Save input video\n",
        "        video.save(input_video_path)\n",
        "\n",
        "        # Run FFmpeg to change FPS\n",
        "        ffmpeg_command = [\n",
        "            \"ffmpeg\", \"-i\", input_video_path,\n",
        "            \"-filter:v\", f\"fps={frame_rate}\",\n",
        "            \"-c:a\", \"copy\",  # Copy audio without re-encoding\n",
        "            output_video_path\n",
        "        ]\n",
        "\n",
        "        process = subprocess.run(ffmpeg_command, capture_output=True, text=True)\n",
        "\n",
        "        if process.returncode != 0:\n",
        "            return jsonify({\"error\": \"FFmpeg failed\", \"details\": process.stderr}), 500\n",
        "\n",
        "        return send_file(output_video_path, mimetype=\"video/mp4\", as_attachment=True, download_name=\"converted_video.mp4\")\n",
        "\n",
        "    except Exception as e:\n",
        "        return jsonify({\"error\": str(e)}), 500\n",
        "    finally:\n",
        "        clean_memory()\n",
        "\n",
        "@app.route(\"/text_to_speech\", methods=[\"POST\"])\n",
        "def text_to_speech():\n",
        "    \"\"\"Convert text to speech and return audio file for download.\"\"\"\n",
        "    try:\n",
        "        data = request.json\n",
        "        text = data.get(\"text\")\n",
        "        language = data.get(\"language\", \"en\")  # Default to English\n",
        "\n",
        "        if not text:\n",
        "            return jsonify({\"error\": \"No text provided\"}), 400\n",
        "\n",
        "        # Convert text to speech using gTTS\n",
        "        tts = gTTS(text=text, lang=language)\n",
        "        audio_buffer = io.BytesIO()\n",
        "        tts.write_to_fp(audio_buffer)\n",
        "        audio_buffer.seek(0)\n",
        "\n",
        "        return send_file(audio_buffer, mimetype=\"audio/mp3\", as_attachment=True, download_name=\"speech.mp3\")\n",
        "\n",
        "    except Exception as e:\n",
        "        return jsonify({\"error\": str(e)}), 500\n",
        "\n",
        "@app.route('/process', methods=['POST'])\n",
        "def process():\n",
        "    \"\"\"Process video and audio files with Wav2Lip\"\"\"\n",
        "    try:\n",
        "        # Check if files are provided\n",
        "        if 'video' not in request.files or 'audio' not in request.files:\n",
        "            return jsonify({\"error\": \"Missing video or audio file\"}), 400\n",
        "\n",
        "        video = request.files['video']\n",
        "        audio = request.files['audio']\n",
        "\n",
        "        # Validate file types\n",
        "        if not video.filename.lower().endswith(('.mp4', '.avi', '.mov')):\n",
        "            return jsonify({\"error\": \"Invalid video format. Please use MP4, AVI, or MOV\"}), 400\n",
        "\n",
        "        if not audio.filename.lower().endswith(('.wav', '.mp3')):\n",
        "            return jsonify({\"error\": \"Invalid audio format. Please use WAV or MP3\"}), 400\n",
        "\n",
        "        # Create unique filenames\n",
        "        timestamp = int(time.time())\n",
        "        input_video_path = os.path.join(OUTPUT_PATH, f'input_video_{timestamp}.mp4')\n",
        "        input_audio_path = os.path.join(OUTPUT_PATH, f'input_audio_{timestamp}.wav')\n",
        "        output_path = os.path.join(OUTPUT_PATH, f'result_{timestamp}.mp4')\n",
        "\n",
        "        # Save files\n",
        "        video.save(input_video_path)\n",
        "        audio.save(input_audio_path)\n",
        "\n",
        "        try:\n",
        "            # Check file sizes\n",
        "            video_size = os.path.getsize(input_video_path)\n",
        "            audio_size = os.path.getsize(input_audio_path)\n",
        "\n",
        "            # Log file info\n",
        "            logger.info(f\"Video size: {video_size / (1024*1024):.2f} MB\")\n",
        "            logger.info(f\"Audio size: {audio_size / (1024*1024):.2f} MB\")\n",
        "\n",
        "            # Run processing\n",
        "            success = run_wav2lip(input_video_path, input_audio_path, output_path)\n",
        "\n",
        "            if not success:\n",
        "                return jsonify({\n",
        "                    \"error\": \"Failed to process video. Please check the input files and try again.\"\n",
        "                }), 500\n",
        "\n",
        "            if not os.path.exists(output_path):\n",
        "                return jsonify({\"error\": \"Output file not generated\"}), 500\n",
        "\n",
        "            return send_file(\n",
        "                output_path,\n",
        "                mimetype='video/mp4',\n",
        "                as_attachment=True,\n",
        "                download_name='result.mp4'\n",
        "            )\n",
        "\n",
        "        finally:\n",
        "            # Clean up input files\n",
        "            try:\n",
        "                os.remove(input_video_path)\n",
        "                os.remove(input_audio_path)\n",
        "            except Exception as e:\n",
        "                logger.warning(f\"Error cleaning up input files: {e}\")\n",
        "\n",
        "    except Exception as e:\n",
        "        logger.error(f\"Error in process endpoint: {str(e)}\")\n",
        "        return jsonify({\"error\": str(e)}), 500\n",
        "    finally:\n",
        "        clean_memory()\n",
        "\n",
        "def start_ngrok():\n",
        "    \"\"\"Start ngrok using subprocess\"\"\"\n",
        "    try:\n",
        "        # Kill any existing ngrok processes\n",
        "        subprocess.run('pkill ngrok', shell=True, capture_output=True)\n",
        "        time.sleep(2)\n",
        "\n",
        "        # Start ngrok in background\n",
        "        subprocess.Popen(['ngrok', 'http', '5000'])\n",
        "        time.sleep(3)  # Wait for ngrok to start\n",
        "\n",
        "        # Get the public URL\n",
        "        import requests\n",
        "        response = requests.get('http://localhost:4040/api/tunnels')\n",
        "        data = response.json()\n",
        "        url = data['tunnels'][0]['public_url']\n",
        "        print(f\"\\n{'='*50}\")\n",
        "        print(f\"Ngrok URL: {url}\")\n",
        "        print(\"Copy this URL into the 'Server URL' field in the HTML page\")\n",
        "        print(f\"{'='*50}\\n\")\n",
        "        return url\n",
        "\n",
        "    except Exception as e:\n",
        "        print(f\"Error starting ngrok: {e}\")\n",
        "        return None\n",
        "\n",
        "if __name__ == \"__main__\":\n",
        "    # Start ngrok first\n",
        "    ngrok_url = start_ngrok()\n",
        "    if not ngrok_url:\n",
        "        print(\"Warning: Failed to get ngrok URL, but continuing with local server\")\n",
        "\n",
        "    # Run Flask app\n",
        "    app.run(host='0.0.0.0', port=5000)"
      ]
    },
    {
      "cell_type": "code",
      "source": [
        "!ngrok http https://localhost:4040\n"
      ],
      "metadata": {
        "colab": {
          "base_uri": "https://localhost:8080/"
        },
        "id": "FhgF2a06rvGJ",
        "outputId": "41d8507a-0cb7-4e94-a0ce-4694eba0440e"
      },
      "execution_count": 6,
      "outputs": [
        {
          "output_type": "stream",
          "name": "stdout",
          "text": [
            "Traceback (most recent call last):\n",
            "  File \"/usr/lib/python3.11/subprocess.py\", line 1264, in wait\n",
            "    return self._wait(timeout=timeout)\n",
            "           ^^^^^^^^^^^^^^^^^^^^^^^^^^^\n",
            "  File \"/usr/lib/python3.11/subprocess.py\", line 2053, in _wait\n",
            "    (pid, sts) = self._try_wait(0)\n",
            "                 ^^^^^^^^^^^^^^^^^\n",
            "  File \"/usr/lib/python3.11/subprocess.py\", line 2011, in _try_wait\n",
            "    (pid, sts) = os.waitpid(self.pid, wait_flags)\n",
            "                 ^^^^^^^^^^^^^^^^^^^^^^^^^^^^^^^^\n",
            "KeyboardInterrupt\n",
            "\n",
            "During handling of the above exception, another exception occurred:\n",
            "\n",
            "Traceback (most recent call last):\n",
            "  File \"/usr/local/bin/ngrok\", line 8, in <module>\n",
            "    sys.exit(main())\n",
            "             ^^^^^^\n",
            "  File \"/usr/local/lib/python3.11/dist-packages/pyngrok/ngrok.py\", line 617, in main\n",
            "    run(sys.argv[1:])\n",
            "  File \"/usr/local/lib/python3.11/dist-packages/pyngrok/ngrok.py\", line 605, in run\n",
            "    process.run_process(pyngrok_config.ngrok_path, args)\n",
            "  File \"/usr/local/lib/python3.11/dist-packages/pyngrok/process.py\", line 306, in run_process\n",
            "    subprocess.call(start)\n",
            "  File \"/usr/lib/python3.11/subprocess.py\", line 391, in call\n",
            "    return p.wait(timeout=timeout)\n",
            "           ^^^^^^^^^^^^^^^^^^^^^^^\n",
            "  File \"/usr/lib/python3.11/subprocess.py\", line 1277, in wait\n",
            "    self._wait(timeout=sigint_timeout)\n",
            "  File \"/usr/lib/python3.11/subprocess.py\", line 2043, in _wait\n",
            "    remaining = self._remaining_time(endtime)\n",
            "                ^^^^^^^^^^^^^^^^^^^^^^^^^^^^^\n",
            "  File \"/usr/lib/python3.11/subprocess.py\", line 1239, in _remaining_time\n",
            "    def _remaining_time(self, endtime):\n",
            "\n",
            "KeyboardInterrupt\n",
            "^C\n"
          ]
        }
      ]
    },
    {
      "cell_type": "markdown",
      "source": [
        "# NGROK\n",
        "\n",
        "* Issue with ngrok\n",
        "Your start_ngrok function assumes ngrok is installed and running. However:\n",
        "\n",
        "* Killing existing ngrok processes with pkill ngrok may not work if ngrok is not running.\n",
        "* If requests.get('http://localhost:4040/api/tunnels') fails, the script will break.\n",
        "✅ Fix: Instead of subprocess.run('pkill ngrok', shell=True), use:\n",
        "\n",
        "`subprocess.run([\"pkill\", \"-f\", \"ngrok\"], shell=True, capture_output=True)`"
      ],
      "metadata": {
        "id": "pQaBQ4i2Dzkf"
      }
    },
    {
      "cell_type": "code",
      "source": [
        "!nohup ngrok http 5000 --log=stdout > ngrok.log &\n"
      ],
      "metadata": {
        "colab": {
          "base_uri": "https://localhost:8080/"
        },
        "id": "X1DgMJId2TO5",
        "outputId": "1477c45f-908a-4b60-a5ef-6485bfb54885"
      },
      "execution_count": 15,
      "outputs": [
        {
          "output_type": "stream",
          "name": "stdout",
          "text": [
            "nohup: redirecting stderr to stdout\n"
          ]
        }
      ]
    }
  ],
  "metadata": {
    "colab": {
      "provenance": [],
      "gpuType": "T4"
    },
    "kernelspec": {
      "display_name": "Python 3",
      "name": "python3"
    },
    "language_info": {
      "name": "python"
    },
    "accelerator": "GPU"
  },
  "nbformat": 4,
  "nbformat_minor": 0
}